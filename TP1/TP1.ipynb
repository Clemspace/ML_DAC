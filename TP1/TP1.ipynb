{
 "cells": [
  {
   "cell_type": "markdown",
   "metadata": {},
   "source": [
    "Exercice 1 : Entropie"
   ]
  },
  {
   "cell_type": "code",
   "execution_count": 3,
   "metadata": {},
   "outputs": [],
   "source": [
    "import decisiontree as dt\n",
    "import math\n",
    "import collections\n",
    "\n",
    "def entropie(vect):\n",
    "    \"\"\"\n",
    "    calcule l'entropie d'un objet itérable\n",
    "    \"\"\"\n",
    "    entropy = 0\n",
    "    labels_dict = collections.Counter(vect)\n",
    "    for k,v in labels_dict.items():\n",
    "        entropy-= v/len(vect) * math.log(v/len(vect))\n",
    "    return entropy    \n",
    "\n",
    "def entropie_cond(list_vect):\n",
    "    \"\"\"\n",
    "    calcule l'entropie conditionnelle d'une liste d'itérables\n",
    "    \"\"\"\n",
    "    h, nb_elems = 0,0\n",
    "    for vect in list_vect:\n",
    "        h += len(vect) * entropie(vect)\n",
    "        nb_elems += len(vect)\n",
    "    return h/nb_elems\n"
   ]
  },
  {
   "cell_type": "markdown",
   "metadata": {},
   "source": [
    "Question 1.3:"
   ]
  },
  {
   "cell_type": "code",
   "execution_count": 4,
   "metadata": {},
   "outputs": [
    {
     "name": "stdout",
     "output_type": "stream",
     "text": [
      "[0.8479942625588093, 0.8479942625588093, 0.6848735471085738, 0.8479942625588093, 0.9606247612828218, 0.8479942625588093, 0.8479942625588093, 0.8479942625588093, 0.9089087348987808, 0.715537563594637, 0.8479942625588093, 0.8479942625588093, 0.9089087348987808, 0.8479942625588093, 0.7752107668722757, 0.6848735471085738, 0.9089087348987808, 0.9089087348987808, 0.9089087348987808, 0.9089087348987808, 0.8479942625588093, 0.8479942625588093, 0.8479942625588093, 0.9606247612828218, 0.9606247612828218, 0.8479942625588093, 0.7752107668722757, 0.7752107668722757, 0.8479942625588093, 0.8479942625588093, 0.8479942625588093, 0.6848735471085738]\n",
      "{0: 'Sci-Fi', 1: 'Crime', 2: 'Romance', 3: 'Animation', 4: 'Music', 5: 'Comedy', 6: 'War', 7: 'Horror', 8: 'Film-Noir', 9: 'Adult', 10: 'News', 11: 'Reality-TV', 12: 'Thriller', 13: 'Western', 14: 'Mystery', 15: 'Short', 16: 'Talk-Show', 17: 'Drama', 18: 'Action', 19: 'Documentary', 20: 'Musical', 21: 'History', 22: 'Family', 23: 'Adventure', 24: 'Fantasy', 25: 'Game-Show', 26: 'Sport', 27: 'Biography', 28: 'Duree', 29: 'couleur', 30: 'annee', 31: 'budget', 32: 'nb_votes', 33: 'rating'}\n"
     ]
    }
   ],
   "source": [
    "import  pickle\n",
    "import  numpy as np\n",
    "\n",
    "# data : tableau (films ,features), id2titles : dictionnaire  id -> titre ,\n",
    "# fields : id  feature  -> nom\n",
    "[data , id2titles , fields ]= pickle.load(open(\"imdb_extrait.pkl\",\"rb\"))\n",
    "\n",
    "# la  derniere  colonne  est le vote\n",
    "datax=data [: ,:32]\n",
    "datay=np.array ([1 if x[33] >6.5  else  -1 for x in data])\n",
    "\n",
    "entropies = [entropie(datax[i]) for i in range(len(datax[0]))]\n",
    "print(entropies)\n",
    "print(fields)\n",
    "#entropies_cond = [entropie_cond(datax[i]) for i in range(len(datax[0]))]\n",
    "#print(entropies_cond)\n",
    "\n",
    "#diff_entropies = entropies - entropies_cond\n",
    "\n"
   ]
  },
  {
   "cell_type": "code",
   "execution_count": 5,
   "metadata": {},
   "outputs": [
    {
     "name": "stdout",
     "output_type": "stream",
     "text": [
      "0.5672552866797471\n",
      "0.6418138216699367\n",
      "0.6825812077610639\n",
      "0.7183344233703945\n",
      "0.7314148681055156\n",
      "0.736429038587312\n",
      "0.7575757575757576\n",
      "0.7719642467843907\n",
      "0.7889688249400479\n",
      "0.8059734030957052\n",
      "0.8210159145410943\n",
      "0.8380204926967517\n",
      "0.8502289077828646\n",
      "0.8637453673424896\n",
      "0.8750817527795945\n",
      "0.8820579899716591\n",
      "0.8890342271637236\n",
      "0.8923043383475038\n",
      "0.8960104643557881\n",
      "0.8964464791802921\n",
      "0.8984085458905603\n",
      "0.8997165903640724\n",
      "0.9001526051885764\n",
      "0.9001526051885764\n",
      "0.9001526051885764\n",
      "0.9001526051885764\n",
      "0.9001526051885764\n",
      "0.9001526051885764\n",
      "0.9001526051885764\n",
      "0.9001526051885764\n",
      "0.9001526051885764\n"
     ]
    },
    {
     "data": {
      "image/png": "[encoded data removed]",
      "text/plain": [
       "<Figure size 432x288 with 1 Axes>"
      ]
     },
     "metadata": {
      "needs_background": "light"
     },
     "output_type": "display_data"
    }
   ],
   "source": [
    "\n",
    "from  decisiontree  import  DecisionTree\n",
    "import numpy as np\n",
    "import matplotlib.pyplot as plt\n",
    "\n",
    "depths = [i for i in range(31)]\n",
    "scores = []\n",
    "for depth in depths:\n",
    "    dt = DecisionTree ()\n",
    "    dt.max_depth = depth        #on fixe la  taille  de l’arbre a 5\n",
    "    dt.min_samples_split = 2    #nombre  minimum d’exemples  pour  spliter  un noeud\n",
    "    dt.fit(datax ,datay)\n",
    "    dt.predict(datax [: ,:])\n",
    "    print(dt.score(datax ,datay))\n",
    "    scores.append(dt.score(datax ,datay))\n",
    "\n",
    "# dessine l’arbre  dans un  fichier  pdf   si pydot  est  installe.\n",
    "#dt.to_pdf(\"/tmp/test_tree.pdf\",fields)\n",
    "# sinon  utiliser  http :// www.webgraphviz.com/\n",
    "#dt.to_dot(fields)\n",
    "#ou dans la  console\n",
    "#print(dt.print_tree(fields ))\n",
    "\n",
    "######PLOTTING#######\n",
    "\n",
    "fig, ax = plt.subplots()\n",
    "\n",
    "plt.plot(depths, scores, label='scores')\n",
    "plt.show()\n",
    "\n",
    "\n"
   ]
  },
  {
   "cell_type": "markdown",
   "metadata": {},
   "source": [
    "# Sur et sous apprentissage"
   ]
  },
  {
   "cell_type": "code",
   "execution_count": 64,
   "metadata": {},
   "outputs": [
    {
     "data": {
      "application/vnd.jupyter.widget-view+json": {
       "model_id": "8691d94b5e9b4415ad9d115ca059cf7d",
       "version_major": 2,
       "version_minor": 0
      },
      "text/plain": [
       "HBox(children=(FloatProgress(value=0.0, description='1st loop', max=3.0, style=ProgressStyle(description_width…"
      ]
     },
     "metadata": {},
     "output_type": "display_data"
    },
    {
     "data": {
      "application/vnd.jupyter.widget-view+json": {
       "model_id": "78f705cc04bf40bda920170c6757fbf1",
       "version_major": 2,
       "version_minor": 0
      },
      "text/plain": [
       "HBox(children=(FloatProgress(value=0.0, description='2nd loop', max=29.0, style=ProgressStyle(description_widt…"
      ]
     },
     "metadata": {},
     "output_type": "display_data"
    },
    {
     "name": "stdout",
     "output_type": "stream",
     "text": [
      "\n"
     ]
    },
    {
     "data": {
      "application/vnd.jupyter.widget-view+json": {
       "model_id": "bfe3843b81414f04b4b832b4da6f7145",
       "version_major": 2,
       "version_minor": 0
      },
      "text/plain": [
       "HBox(children=(FloatProgress(value=0.0, description='2nd loop', max=29.0, style=ProgressStyle(description_widt…"
      ]
     },
     "metadata": {},
     "output_type": "display_data"
    },
    {
     "name": "stdout",
     "output_type": "stream",
     "text": [
      "\n"
     ]
    },
    {
     "data": {
      "application/vnd.jupyter.widget-view+json": {
       "model_id": "c6ae3300921344e9bfa61e00b966b757",
       "version_major": 2,
       "version_minor": 0
      },
      "text/plain": [
       "HBox(children=(FloatProgress(value=0.0, description='2nd loop', max=29.0, style=ProgressStyle(description_widt…"
      ]
     },
     "metadata": {},
     "output_type": "display_data"
    },
    {
     "name": "stdout",
     "output_type": "stream",
     "text": [
      "\n",
      "\n"
     ]
    },
    {
     "data": {
      "image/png": "[encoded data removed]",
      "text/plain": [
       "<Figure size 432x288 with 3 Axes>"
      ]
     },
     "metadata": {
      "needs_background": "light"
     },
     "output_type": "display_data"
    }
   ],
   "source": [
    "import numpy as np\n",
    "import matplotlib.pyplot as plt\n",
    "from tqdm.notebook import tqdm\n",
    "\n",
    "partitions = np.arange(0.2, 0.9,0.3)\n",
    "\n",
    "def split_data(datax, datay, percentage):\n",
    "    \"\"\" \n",
    "        Sépare les données en un ensemble d'apprentissage et un ensemble de test\n",
    "        percentage : pourcentage de données dans l'ensemble d'apprentissage\n",
    "    \"\"\"\n",
    "    size = datax.shape[0] # nombre de données\n",
    "    indices = np.arange(size)\n",
    "    np.random.shuffle(indices) # mélange aléatoire des indices\n",
    "    nb_app = int(size*percentage) # nombre de données d'appentissage\n",
    "    id_app = indices[0:nb_app] # indices des données d'apprentissage\n",
    "    id_test = indices[nb_app:] # indice des données de test\n",
    "    return datax[id_app], datax[id_test], datay[id_app], datay[id_test]\n",
    "\n",
    "\n",
    "fig, axes = plt.subplots(3, 1, sharex=True, sharey=True)\n",
    "for i in tqdm(range(3), desc='1st loop'):\n",
    "    col =  (i) // 3 \n",
    "    line = (i) % 4\n",
    "    \n",
    "    depths = range(2,31)\n",
    "    datax_app, datax_test, datay_app, datay_test = split_data(datax, datay, partitions[i])\n",
    "    \n",
    "    error_app = []\n",
    "    error_test = []\n",
    "\n",
    "\n",
    "    for depth in tqdm(range(len(depths)), desc='2nd loop'):\n",
    "\n",
    "            \n",
    "        dt = DecisionTree()\n",
    "        dt.max_depth = depth # on fixe la  taille  de l’arbre a depth\n",
    "        dt.min_samples_split = 2 # nombre  minimum d’exemples  pour  spliter  un noeud\n",
    "        dt.fit(datax_app, datay_app) # apprentissage\n",
    "        error_app.append(1 - dt.score(datax_app ,datay_app)) # erreur en apprentissage        \n",
    "        error_test.append(1 - dt.score(datax_test ,datay_test)) # erreur en test\n",
    "\n",
    "    axes[line].plot(depths, error_app, color='cornflowerblue')\n",
    "    axes[line].plot(depths, error_test, color='crimson')\n",
    "    axes[line].set_title(str(partitions[i])+'%')\n",
    "\n",
    "\n",
    "plt.show()"
   ]
  },
  {
   "cell_type": "code",
   "execution_count": null,
   "metadata": {},
   "outputs": [],
   "source": []
  }
 ],
 "metadata": {
  "kernelspec": {
   "display_name": "Python 3",
   "language": "python",
   "name": "python3"
  },
  "language_info": {
   "codemirror_mode": {
    "name": "ipython",
    "version": 3
   },
   "file_extension": ".py",
   "mimetype": "text/x-python",
   "name": "python",
   "nbconvert_exporter": "python",
   "pygments_lexer": "ipython3",
   "version": "3.7.6"
  }
 },
 "nbformat": 4,
 "nbformat_minor": 2
}
