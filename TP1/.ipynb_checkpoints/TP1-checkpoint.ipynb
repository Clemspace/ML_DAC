{
 "cells": [
  {
   "cell_type": "markdown",
   "metadata": {},
   "source": [
    "Exercice 1 : Entropie"
   ]
  },
  {
   "cell_type": "code",
   "execution_count": null,
   "metadata": {},
   "outputs": [],
   "source": [
    "import decisiontree as dt\n",
    "import math\n",
    "import collections\n",
    "\n",
    "def entropie(vect):\n",
    "    \"\"\"\n",
    "    calcule l'entropie d'un objet itérable\n",
    "    \"\"\"\n",
    "    entropy = 0\n",
    "    labels_dict = collections.Counter(vect)\n",
    "    for k,v in labels_dict.items():\n",
    "        entropy-= v/len(vect) * math.log(v/len(vect))\n",
    "    return entropy    \n",
    "\n",
    "def entropie_cond(list_vect):\n",
    "    \"\"\"\n",
    "    calcule l'entropie conditionnelle d'une liste d'itérables\n",
    "    \"\"\"\n",
    "    h, nb_elems = 0,0\n",
    "    for vect in list_vect:\n",
    "        h += len(vect) * entropie(vect)\n",
    "        nb_elems += len(vect)\n",
    "    return h/nb_elems\n"
   ]
  },
  {
   "cell_type": "markdown",
   "metadata": {},
   "source": [
    "Question 1.3:"
   ]
  },
  {
   "cell_type": "code",
   "execution_count": 31,
   "metadata": {},
   "outputs": [
    {
     "name": "stdout",
     "output_type": "stream",
     "text": [
      "[0.8479942625588093, 0.8479942625588093, 0.6848735471085738, 0.8479942625588093, 0.9606247612828218, 0.8479942625588093, 0.8479942625588093, 0.8479942625588093, 0.9089087348987808, 0.715537563594637, 0.8479942625588093, 0.8479942625588093, 0.9089087348987808, 0.8479942625588093, 0.7752107668722757, 0.6848735471085738, 0.9089087348987808, 0.9089087348987808, 0.9089087348987808, 0.9089087348987808, 0.8479942625588093, 0.8479942625588093, 0.8479942625588093, 0.9606247612828218, 0.9606247612828218, 0.8479942625588093, 0.7752107668722757, 0.7752107668722757, 0.8479942625588093, 0.8479942625588093, 0.8479942625588093, 0.6848735471085738]\n",
      "{0: 'Sci-Fi', 1: 'Crime', 2: 'Romance', 3: 'Animation', 4: 'Music', 5: 'Comedy', 6: 'War', 7: 'Horror', 8: 'Film-Noir', 9: 'Adult', 10: 'News', 11: 'Reality-TV', 12: 'Thriller', 13: 'Western', 14: 'Mystery', 15: 'Short', 16: 'Talk-Show', 17: 'Drama', 18: 'Action', 19: 'Documentary', 20: 'Musical', 21: 'History', 22: 'Family', 23: 'Adventure', 24: 'Fantasy', 25: 'Game-Show', 26: 'Sport', 27: 'Biography', 28: 'Duree', 29: 'couleur', 30: 'annee', 31: 'budget', 32: 'nb_votes', 33: 'rating'}\n"
     ]
    }
   ],
   "source": [
    "import  pickle\n",
    "import  numpy as np\n",
    "\n",
    "# data : tableau (films ,features), id2titles : dictionnaire  id -> titre ,\n",
    "# fields : id  feature  -> nom\n",
    "[data , id2titles , fields ]= pickle.load(open(\"imdb_extrait.pkl\",\"rb\"))\n",
    "\n",
    "# la  derniere  colonne  est le vote\n",
    "datax=data [: ,:32]\n",
    "datay=np.array ([1 if x[33] >6.5  else  -1 for x in data])\n",
    "\n",
    "entropies = [entropie(datax[i]) for i in range(len(datax[0]))]\n",
    "print(entropies)\n",
    "print(fields)\n",
    "#entropies_cond = [entropie_cond(datax[i]) for i in range(len(datax[0]))]\n",
    "#print(entropies_cond)\n",
    "\n",
    "#diff_entropies = entropies - entropies_cond\n",
    "\n"
   ]
  },
  {
   "cell_type": "code",
   "execution_count": 38,
   "metadata": {},
   "outputs": [
    {
     "name": "stdout",
     "output_type": "stream",
     "text": [
      "0.736429038587312\n",
      "var Drama :  > 0.500000 \n",
      "\tvar budget :  > 15660000.000000 \n",
      "\t\tvar Duree :  > 115.500000 \n",
      "\t\t\tvar budget :  > 36500000.000000 \n",
      "\t\t\t\tvar Duree :  > 137.500000 \n",
      "\t\t\t\t\tclass : 1 {1: 101, -1: 20}\n",
      "\t\t\t\tvar Duree :  <= 137.500000 \n",
      "\t\t\t\t\tclass : 1 {-1: 94, 1: 109}\n",
      "\t\t\tvar budget :  <= 36500000.000000 \n",
      "\t\t\t\tvar Sci-Fi :  > 0.500000 \n",
      "\t\t\t\t\tclass : -1 {-1: 5, 1: 4}\n",
      "\t\t\t\tvar Sci-Fi :  <= 0.500000 \n",
      "\t\t\t\t\tclass : 1 {1: 252, -1: 31}\n",
      "\t\tvar Duree :  <= 115.500000 \n",
      "\t\t\tvar Biography :  > 0.500000 \n",
      "\t\t\t\tvar annee :  > 2011.500000 \n",
      "\t\t\t\t\tclass : -1 {-1: 2}\n",
      "\t\t\t\tvar annee :  <= 2011.500000 \n",
      "\t\t\t\t\tclass : 1 {1: 24, -1: 2}\n",
      "\t\t\tvar Biography :  <= 0.500000 \n",
      "\t\t\t\tvar Thriller :  > 0.500000 \n",
      "\t\t\t\t\tclass : -1 {-1: 162, 1: 66}\n",
      "\t\t\t\tvar Thriller :  <= 0.500000 \n",
      "\t\t\t\t\tclass : -1 {1: 135, -1: 149}\n",
      "\tvar budget :  <= 15660000.000000 \n",
      "\t\tvar annee :  > 1973.500000 \n",
      "\t\t\tvar Duree :  > 104.500000 \n",
      "\t\t\t\tvar budget :  > 11158052.500000 \n",
      "\t\t\t\t\tclass : 1 {1: 131, -1: 39}\n",
      "\t\t\t\tvar budget :  <= 11158052.500000 \n",
      "\t\t\t\t\tclass : 1 {-1: 25, 1: 321}\n",
      "\t\t\tvar Duree :  <= 104.500000 \n",
      "\t\t\t\tvar Thriller :  > 0.500000 \n",
      "\t\t\t\t\tclass : 1 {1: 57, -1: 51}\n",
      "\t\t\t\tvar Thriller :  <= 0.500000 \n",
      "\t\t\t\t\tclass : 1 {1: 239, -1: 75}\n",
      "\t\tvar annee :  <= 1973.500000 \n",
      "\t\t\tclass : 1 {1: 175}\n",
      "var Drama :  <= 0.500000 \n",
      "\tvar annee :  > 1984.500000 \n",
      "\t\tvar Duree :  > 110.500000 \n",
      "\t\t\tvar Duree :  > 134.500000 \n",
      "\t\t\t\tvar Duree :  > 177.000000 \n",
      "\t\t\t\t\tclass : 1 {1: 14}\n",
      "\t\t\t\tvar Duree :  <= 177.000000 \n",
      "\t\t\t\t\tclass : 1 {-1: 26, 1: 74}\n",
      "\t\t\tvar Duree :  <= 134.500000 \n",
      "\t\t\t\tvar annee :  > 1992.500000 \n",
      "\t\t\t\t\tclass : -1 {1: 175, -1: 184}\n",
      "\t\t\t\tvar annee :  <= 1992.500000 \n",
      "\t\t\t\t\tclass : 1 {-1: 9, 1: 30}\n",
      "\t\tvar Duree :  <= 110.500000 \n",
      "\t\t\tvar Animation :  > 0.500000 \n",
      "\t\t\t\tvar budget :  > 19000000.000000 \n",
      "\t\t\t\t\tclass : 1 {1: 84, -1: 55}\n",
      "\t\t\t\tvar budget :  <= 19000000.000000 \n",
      "\t\t\t\t\tclass : 1 {1: 12, -1: 1}\n",
      "\t\t\tvar Animation :  <= 0.500000 \n",
      "\t\t\t\tvar budget :  > 6160000.000000 \n",
      "\t\t\t\t\tclass : -1 {-1: 866, 1: 247}\n",
      "\t\t\t\tvar budget :  <= 6160000.000000 \n",
      "\t\t\t\t\tclass : -1 {-1: 123, 1: 99}\n",
      "\tvar annee :  <= 1984.500000 \n",
      "\t\tvar annee :  > 1965.500000 \n",
      "\t\t\tvar Horror :  > 0.500000 \n",
      "\t\t\t\tvar Duree :  > 86.500000 \n",
      "\t\t\t\t\tclass : 1 {-1: 20, 1: 32}\n",
      "\t\t\t\tvar Duree :  <= 86.500000 \n",
      "\t\t\t\t\tclass : -1 {1: 1, -1: 7}\n",
      "\t\t\tvar Horror :  <= 0.500000 \n",
      "\t\t\t\tvar budget :  > 33250000.000000 \n",
      "\t\t\t\t\tclass : -1 {-1: 7, 1: 2}\n",
      "\t\t\t\tvar budget :  <= 33250000.000000 \n",
      "\t\t\t\t\tclass : 1 {1: 122, -1: 29}\n",
      "\t\tvar annee :  <= 1965.500000 \n",
      "\t\t\tvar budget :  > 265500.000000 \n",
      "\t\t\t\tclass : 1 {1: 85}\n",
      "\t\t\tvar budget :  <= 265500.000000 \n",
      "\t\t\t\tvar annee :  > 1950.000000 \n",
      "\t\t\t\t\tclass : 1 {1: 4, -1: 3}\n",
      "\t\t\t\tvar annee :  <= 1950.000000 \n",
      "\t\t\t\t\tclass : 1 {1: 7}\n",
      "\n"
     ]
    }
   ],
   "source": [
    "\n",
    "from  decisiontree  import  DecisionTree\n",
    "dt = DecisionTree ()\n",
    "dt.max_depth = 5#on fixe la  taille  de l’arbre a 5\n",
    "dt.min_samples_split = 2#nombre  minimum d’exemples  pour  spliter  un noeud\n",
    "dt.fit(datax ,datay)\n",
    "dt.predict(datax [:5 ,:])\n",
    "print(dt.score(datax ,datay))\n",
    "# dessine l’arbre  dans un  fichier  pdf   si pydot  est  installe.\n",
    "dt.to_pdf(\"/tmp/test_tree.pdf\",fields)\n",
    "# sinon  utiliser  http :// www.webgraphviz.com/\n",
    "dt.to_dot(fields)\n",
    "#ou dans la  console\n",
    "print(dt.print_tree(fields ))"
   ]
  }
 ],
 "metadata": {
  "kernelspec": {
   "display_name": "Python 3",
   "language": "python",
   "name": "python3"
  },
  "language_info": {
   "codemirror_mode": {
    "name": "ipython",
    "version": 3
   },
   "file_extension": ".py",
   "mimetype": "text/x-python",
   "name": "python",
   "nbconvert_exporter": "python",
   "pygments_lexer": "ipython3",
   "version": "3.7.4"
  }
 },
 "nbformat": 4,
 "nbformat_minor": 2
}
